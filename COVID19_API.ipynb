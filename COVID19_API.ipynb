{
  "nbformat": 4,
  "nbformat_minor": 0,
  "metadata": {
    "colab": {
      "name": "COVID19 API.ipynb",
      "provenance": [],
      "mount_file_id": "1j7WlxX26diKh8J_IdhgKmJWFsfDOo7dM",
      "authorship_tag": "ABX9TyNHv3kcApNJepZ80IG7IOLU",
      "include_colab_link": true
    },
    "kernelspec": {
      "name": "python3",
      "display_name": "Python 3"
    }
  },
  "cells": [
    {
      "cell_type": "markdown",
      "metadata": {
        "id": "view-in-github",
        "colab_type": "text"
      },
      "source": [
        "<a href=\"https://colab.research.google.com/github/bod30/Hello-World/blob/master/COVID19_API.ipynb\" target=\"_parent\"><img src=\"https://colab.research.google.com/assets/colab-badge.svg\" alt=\"Open In Colab\"/></a>"
      ]
    },
    {
      "cell_type": "code",
      "metadata": {
        "id": "HHiDOvmfeXE5",
        "colab_type": "code",
        "outputId": "3921858e-674c-446d-bc4b-12554dcce872",
        "colab": {
          "base_uri": "https://localhost:8080/",
          "height": 386
        }
      },
      "source": [
        "import numpy as np\n",
        "import pandas as pd\n",
        "import requests\n",
        "import json\n",
        "\n",
        "url = \"https://api.apify.com/v2/key-value-stores/KWLojgM5r1JmMW4b4/records/LATEST?disableRedirect=true/\"\n",
        "JSONContent = requests.get(url).json()\n",
        "content = json.dumps(JSONContent, indent = 4, sort_keys=True)\n",
        "\n",
        "\n",
        "print(content)"
      ],
      "execution_count": 9,
      "outputs": [
        {
          "output_type": "stream",
          "text": [
            "{\n",
            "    \"country\": \"UK\",\n",
            "    \"dailyConfirmed\": 4451,\n",
            "    \"deceased\": 18100,\n",
            "    \"englandConfirmed\": 99137,\n",
            "    \"englandDeceased\": 16271,\n",
            "    \"historyData\": \"https://api.apify.com/v2/datasets/K1mXdufnpvr53AFk6/items?format=json&clean=1\",\n",
            "    \"infected\": 133495,\n",
            "    \"lastUpdatedAtApify\": \"2020-04-22T20:50:00.000Z\",\n",
            "    \"lastUpdatedAtSource\": \"N/A\",\n",
            "    \"northenIrelandConfirmed\": 2874,\n",
            "    \"northenIrelandDeceased\": 220,\n",
            "    \"readMe\": \"https://apify.com/katerinahronik/covid-uk\",\n",
            "    \"recovered\": \"N/A\",\n",
            "    \"scotlandConfirmed\": 9038,\n",
            "    \"scotlandDeceased\": 985,\n",
            "    \"sourceUrl\": \"https://www.gov.uk/government/publications/covid-19-track-coronavirus-cases\",\n",
            "    \"tested\": \"N/A\",\n",
            "    \"walesConfirmed\": 8124,\n",
            "    \"walesDeceased\": 624\n",
            "}\n"
          ],
          "name": "stdout"
        }
      ]
    },
    {
      "cell_type": "code",
      "metadata": {
        "id": "4YAAkyBLrmSA",
        "colab_type": "code",
        "outputId": "63a54a07-031f-4b0d-a89c-ae8996901f50",
        "colab": {
          "base_uri": "https://localhost:8080/",
          "height": 281
        }
      },
      "source": [
        "#UK Cases\n",
        "print(\"UK Total Cases:\",JSONContent['infected'])\n",
        "print(\"UK Daily Confirmed:\",JSONContent['dailyConfirmed'])\n",
        "print(\"UK deceased:\",JSONContent['deceased'])\n",
        "\n",
        "#England\n",
        "print(\"\\nEngland Cases Confirmed:\",JSONContent['englandConfirmed'])\n",
        "print(\"England Deceased:\",JSONContent['englandDeceased'])\n",
        "\n",
        "#NI\n",
        "print(\"\\nNorthen Ireland Cases Confirmed:\",JSONContent['northenIrelandConfirmed'])\n",
        "print(\"Northen Ireland Deceased:\",JSONContent['northenIrelandDeceased'])\n",
        "\n",
        "#Scotland\n",
        "print(\"\\nScotland Cases Confirmed:\",JSONContent['scotlandConfirmed'])\n",
        "print(\"Scotland Deceased:\",JSONContent['scotlandDeceased'])\n",
        "\n",
        "#Wales\n",
        "print(\"\\nWales Cases Confirmed:\",JSONContent['walesConfirmed'])\n",
        "print(\"Wales Deceased:\",JSONContent['walesDeceased'])\n"
      ],
      "execution_count": 10,
      "outputs": [
        {
          "output_type": "stream",
          "text": [
            "UK Total Cases: 133495\n",
            "UK Daily Confirmed: 4451\n",
            "UK deceased: 18100\n",
            "\n",
            "England Cases Confirmed: 99137\n",
            "England Deceased: 16271\n",
            "\n",
            "Northen Ireland Cases Confirmed: 2874\n",
            "Northen Ireland Deceased: 220\n",
            "\n",
            "Scotland Cases Confirmed: 9038\n",
            "Scotland Deceased: 985\n",
            "\n",
            "Wales Cases Confirmed: 8124\n",
            "Wales Deceased: 624\n"
          ],
          "name": "stdout"
        }
      ]
    },
    {
      "cell_type": "code",
      "metadata": {
        "id": "IWaWmAzznnfF",
        "colab_type": "code",
        "outputId": "9d3ab9f3-0514-408d-ef78-5f6d0c6179eb",
        "colab": {
          "base_uri": "https://localhost:8080/",
          "height": 114
        }
      },
      "source": [
        "import json\n",
        "import requests\n",
        "import pandas as pd\n",
        "import numpy as np\n",
        "\n",
        "# get JSON string data from Apify using web requests library\n",
        "json_response= requests.get(\"https://api.apify.com/v2/key-value-stores/KWLojgM5r1JmMW4b4/records/LATEST?disableRedirect=true\")\n",
        "\n",
        "# check type of json_response object\n",
        "# print(type(json_response.text))\n",
        "\n",
        "# load data in loads() function of json library\n",
        "COVID19 = json.loads(json_response.text)\n",
        "\n",
        "# check type of news_dict\n",
        "# print(type(COVID19))\n",
        "\n",
        "# now get list key data from dict\n",
        "# print(COVID19['infected'])\n",
        "\n",
        "pd.DataFrame([COVID19])\n"
      ],
      "execution_count": 3,
      "outputs": [
        {
          "output_type": "execute_result",
          "data": {
            "text/html": [
              "<div>\n",
              "<style scoped>\n",
              "    .dataframe tbody tr th:only-of-type {\n",
              "        vertical-align: middle;\n",
              "    }\n",
              "\n",
              "    .dataframe tbody tr th {\n",
              "        vertical-align: top;\n",
              "    }\n",
              "\n",
              "    .dataframe thead th {\n",
              "        text-align: right;\n",
              "    }\n",
              "</style>\n",
              "<table border=\"1\" class=\"dataframe\">\n",
              "  <thead>\n",
              "    <tr style=\"text-align: right;\">\n",
              "      <th></th>\n",
              "      <th>infected</th>\n",
              "      <th>tested</th>\n",
              "      <th>recovered</th>\n",
              "      <th>deceased</th>\n",
              "      <th>dailyConfirmed</th>\n",
              "      <th>englandConfirmed</th>\n",
              "      <th>englandDeceased</th>\n",
              "      <th>scotlandConfirmed</th>\n",
              "      <th>scotlandDeceased</th>\n",
              "      <th>walesConfirmed</th>\n",
              "      <th>walesDeceased</th>\n",
              "      <th>northenIrelandConfirmed</th>\n",
              "      <th>northenIrelandDeceased</th>\n",
              "      <th>country</th>\n",
              "      <th>historyData</th>\n",
              "      <th>sourceUrl</th>\n",
              "      <th>lastUpdatedAtApify</th>\n",
              "      <th>lastUpdatedAtSource</th>\n",
              "      <th>readMe</th>\n",
              "    </tr>\n",
              "  </thead>\n",
              "  <tbody>\n",
              "    <tr>\n",
              "      <th>0</th>\n",
              "      <td>133495</td>\n",
              "      <td>N/A</td>\n",
              "      <td>N/A</td>\n",
              "      <td>18100</td>\n",
              "      <td>4451</td>\n",
              "      <td>99137</td>\n",
              "      <td>16271</td>\n",
              "      <td>9038</td>\n",
              "      <td>985</td>\n",
              "      <td>8124</td>\n",
              "      <td>624</td>\n",
              "      <td>2874</td>\n",
              "      <td>220</td>\n",
              "      <td>UK</td>\n",
              "      <td>https://api.apify.com/v2/datasets/K1mXdufnpvr5...</td>\n",
              "      <td>https://www.gov.uk/government/publications/cov...</td>\n",
              "      <td>2020-04-22T19:50:00.000Z</td>\n",
              "      <td>N/A</td>\n",
              "      <td>https://apify.com/katerinahronik/covid-uk</td>\n",
              "    </tr>\n",
              "  </tbody>\n",
              "</table>\n",
              "</div>"
            ],
            "text/plain": [
              "   infected  ...                                     readMe\n",
              "0    133495  ...  https://apify.com/katerinahronik/covid-uk\n",
              "\n",
              "[1 rows x 19 columns]"
            ]
          },
          "metadata": {
            "tags": []
          },
          "execution_count": 3
        }
      ]
    },
    {
      "cell_type": "code",
      "metadata": {
        "id": "huWbnpQogEWo",
        "colab_type": "code",
        "outputId": "31a046cd-73a9-432d-d97d-fedcef3af3f9",
        "colab": {
          "base_uri": "https://localhost:8080/",
          "height": 87
        }
      },
      "source": [
        "import json\n",
        "import requests\n",
        "import pandas as pd\n",
        "import numpy as np\n",
        "import datetime\n",
        "from datetime import date\n",
        "\n",
        "# get JSON string data from Apify using web requests library\n",
        "json_response= requests.get(\"https://api.apify.com/v2/key-value-stores/KWLojgM5r1JmMW4b4/records/LATEST?disableRedirect=true\")\n",
        "\n",
        "# check type of json_response object\n",
        "# print(type(json_response.text))\n",
        "\n",
        "# load data in loads() function of json library\n",
        "COVID19 = json.loads(json_response.text)\n",
        "\n",
        "# check type of news_dict\n",
        "# print(type(COVID19))\n",
        "\n",
        "# now get list key data from dict\n",
        "# print(COVID19['infected'])\n",
        "\n",
        "today = date.today()\n",
        "\n",
        "index = pd.date_range(today, periods=1)\n",
        "columns = (['dailyConfirmed', 'deceased', 'englandConfirmed', 'englandDeceased', 'infected', 'scotlandConfirmed', 'scotlandDeceased', 'walesConfirmed', 'walesDeceased', 'northenIrelandConfirmed', 'northenIrelandDeceased'])\n",
        "\n",
        "df = pd.DataFrame([COVID19], index=index, columns=columns)\n",
        "\n",
        "print(df)\n",
        "df\n",
        "\n",
        "df.to_csv('COVID19_data.csv')\n",
        "!cp COVID19_data.csv \"/content/drive/My Drive/Colab Notebooks/COVID19\"\n",
        "\n",
        "\n"
      ],
      "execution_count": 11,
      "outputs": [
        {
          "output_type": "stream",
          "text": [
            "            dailyConfirmed  ...  northenIrelandDeceased\n",
            "2020-04-22            4451  ...                     220\n",
            "\n",
            "[1 rows x 11 columns]\n"
          ],
          "name": "stdout"
        }
      ]
    }
  ]
}